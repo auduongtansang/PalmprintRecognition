{
  "nbformat": 4,
  "nbformat_minor": 0,
  "metadata": {
    "colab": {
      "name": "LBPH.ipynb",
      "provenance": [],
      "collapsed_sections": [],
      "mount_file_id": "1WxX4pJwQWKm8RnfoaOFvC6OxTJ7BajZs",
      "authorship_tag": "ABX9TyMT7ESF5nOidCjtkiePkAYi"
    },
    "kernelspec": {
      "name": "python3",
      "display_name": "Python 3"
    }
  },
  "cells": [
    {
      "cell_type": "code",
      "metadata": {
        "id": "EXPjD6gZBCG2",
        "colab_type": "code",
        "colab": {}
      },
      "source": [
        "%cd /content/drive/My Drive/Notebooks/Projects/Palmprint Recognition/"
      ],
      "execution_count": null,
      "outputs": []
    },
    {
      "cell_type": "code",
      "metadata": {
        "id": "NXmiZFiCBiGM",
        "colab_type": "code",
        "colab": {}
      },
      "source": [
        "import cv2\n",
        "import csv\n",
        "import numpy as np\n",
        "\n",
        "from skimage import feature"
      ],
      "execution_count": null,
      "outputs": []
    },
    {
      "cell_type": "code",
      "metadata": {
        "id": "moOh8kwqBXl3",
        "colab_type": "code",
        "colab": {}
      },
      "source": [
        "fX = open(\"IITD Palmprint V1/X.csv\", \"r\")\n",
        "reader = csv.reader(fX)\n",
        "X = np.array(list(reader)).astype(np.uint8)\n",
        "fX.close()"
      ],
      "execution_count": null,
      "outputs": []
    },
    {
      "cell_type": "code",
      "metadata": {
        "id": "zEMzlElpBfHT",
        "colab_type": "code",
        "colab": {}
      },
      "source": [
        "fY = open(\"IITD Palmprint V1/Y.csv\", \"r\")\n",
        "reader = csv.reader(fY)\n",
        "Y = np.array(list(reader)).astype(np.int64)\n",
        "fY.close()"
      ],
      "execution_count": null,
      "outputs": []
    },
    {
      "cell_type": "code",
      "metadata": {
        "id": "VlXReEGoBpPr",
        "colab_type": "code",
        "colab": {}
      },
      "source": [
        "p = 16\n",
        "r = 2\n",
        "\n",
        "maxVal = p + 2"
      ],
      "execution_count": null,
      "outputs": []
    },
    {
      "cell_type": "code",
      "metadata": {
        "id": "hAVr02KQDtd9",
        "colab_type": "code",
        "colab": {}
      },
      "source": [
        "def LBPH(img):\n",
        "  lbp = feature.local_binary_pattern(img, p, r, method = \"uniform\").astype(np.uint8)\n",
        "\n",
        "  vector = np.zeros(((p + 2) * 25,))\n",
        "\n",
        "  for i in range(5):\n",
        "    for j in range(5):\n",
        "      startR = 30 * i\n",
        "      startC = 30 * j\n",
        "\n",
        "      sub = lbp[startR:startR + 30, startC:startC + 30]\n",
        "      hist = cv2.calcHist([sub], [0], None, [maxVal], [0, maxVal]).reshape(-1)\n",
        "      \n",
        "      pos = (i * 5 + j) * maxVal\n",
        "      vector[pos:pos + maxVal] = 1 * hist\n",
        "\n",
        "  length = np.sqrt(np.dot(vector, vector))\n",
        "  vector /= length\n",
        "\n",
        "  return vector"
      ],
      "execution_count": null,
      "outputs": []
    }
  ]
}