{
  "nbformat": 4,
  "nbformat_minor": 0,
  "metadata": {
    "colab": {
      "name": "LBPH.ipynb",
      "provenance": [],
      "collapsed_sections": [],
      "mount_file_id": "1WxX4pJwQWKm8RnfoaOFvC6OxTJ7BajZs",
      "authorship_tag": "ABX9TyM5eZomw0CwqYl4qJVbgxgO"
    },
    "kernelspec": {
      "name": "python3",
      "display_name": "Python 3"
    }
  },
  "cells": [
    {
      "cell_type": "markdown",
      "metadata": {
        "id": "Nscv7akXKbBS",
        "colab_type": "text"
      },
      "source": [
        "Nhận dạng đường chỉ tay sử dụng ***đặc trưng LBPH*** và không gian ***PCA*** cùng với ***LDA***.\n",
        "\n",
        "*   *Đặc trưng LBPH* được rút trích bằng cách tính *giá trị LBP* cho từng điểm ảnh. Sau đó, *ma trận LBP* kết quả được chia thành các vùng bằng nhau. Tính lược đồ cho mỗi vùng và nối lại với nhau thành một vector đặc trưng."
      ]
    },
    {
      "cell_type": "code",
      "metadata": {
        "id": "EXPjD6gZBCG2",
        "colab_type": "code",
        "colab": {
          "base_uri": "https://localhost:8080/",
          "height": 34
        },
        "outputId": "d2162885-8e78-44e9-fd9f-115417206a1f"
      },
      "source": [
        "%cd /content/drive/My Drive/Notebooks/Projects/Palmprint Recognition/"
      ],
      "execution_count": 1,
      "outputs": [
        {
          "output_type": "stream",
          "text": [
            "/content/drive/My Drive/Notebooks/Projects/Palmprint Recognition\n"
          ],
          "name": "stdout"
        }
      ]
    },
    {
      "cell_type": "code",
      "metadata": {
        "id": "NXmiZFiCBiGM",
        "colab_type": "code",
        "colab": {}
      },
      "source": [
        "import cv2\n",
        "import csv\n",
        "import numpy as np\n",
        "\n",
        "from skimage import feature\n",
        "from sklearn.svm import SVC\n",
        "from sklearn.decomposition import PCA\n",
        "from sklearn.model_selection import train_test_split\n",
        "from sklearn.discriminant_analysis import LinearDiscriminantAnalysis"
      ],
      "execution_count": 2,
      "outputs": []
    },
    {
      "cell_type": "markdown",
      "metadata": {
        "id": "E22riWC6QQI9",
        "colab_type": "text"
      },
      "source": [
        "***Đọc dữ liệu:*** Dữ liệu gồm $N = 1301$ ảnh ROI có kích thước *150 x 150* đã được tiền xử lý và lưu dưới dạng các vector có $D = 22500$ chiều, nên ma trận dữ liệu $X$ có kích thước $(1301, 22500)$, và vector nhãn tương ứng $Y$ có kích thước $(1301, 1)$."
      ]
    },
    {
      "cell_type": "code",
      "metadata": {
        "id": "moOh8kwqBXl3",
        "colab_type": "code",
        "colab": {}
      },
      "source": [
        "fX = open(\"IITD Palmprint V1/X.csv\", \"r\")\n",
        "reader = csv.reader(fX)\n",
        "X = np.array(list(reader)).astype(np.uint8)\n",
        "fX.close()"
      ],
      "execution_count": 3,
      "outputs": []
    },
    {
      "cell_type": "code",
      "metadata": {
        "id": "zEMzlElpBfHT",
        "colab_type": "code",
        "colab": {}
      },
      "source": [
        "fY = open(\"IITD Palmprint V1/Y.csv\", \"r\")\n",
        "reader = csv.reader(fY)\n",
        "Y = np.array(list(reader)).astype(np.int64)\n",
        "fY.close()"
      ],
      "execution_count": 4,
      "outputs": []
    },
    {
      "cell_type": "markdown",
      "metadata": {
        "id": "zCRCzWeGQh2B",
        "colab_type": "text"
      },
      "source": [
        "***Tham số:*** *LBP* được sử dụng trong đồ án này là $LBP_{p,r}^{riu2}$ với $p = 16$ và $r = 2$."
      ]
    },
    {
      "cell_type": "code",
      "metadata": {
        "id": "VlXReEGoBpPr",
        "colab_type": "code",
        "colab": {}
      },
      "source": [
        "p = 16\n",
        "r = 2\n",
        "\n",
        "maxVal = p + 2"
      ],
      "execution_count": 5,
      "outputs": []
    },
    {
      "cell_type": "markdown",
      "metadata": {
        "id": "HX1rbRGQRAi7",
        "colab_type": "text"
      },
      "source": [
        "***Rút trích đặc trưng:***\n",
        "\n",
        "1.   Tính giá trị $LBP_{16,2}^{riu2}$ cho mỗi điểm ảnh.\n",
        "2.   Chia ảnh kết quả thành các vùng *25 x 25*.\n",
        "3.   Tính lược đồ cho mỗi vùng và nối lại thành một vector đặc trưng."
      ]
    },
    {
      "cell_type": "code",
      "metadata": {
        "id": "hAVr02KQDtd9",
        "colab_type": "code",
        "colab": {}
      },
      "source": [
        "def LBPH(img):\n",
        "  # Calculate LBP value for each pixel\n",
        "  lbp = feature.local_binary_pattern(img, p, r, method = \"uniform\").astype(np.uint8)\n",
        "\n",
        "  # Feature vector is a ((p + 2) values * 36 sub-regions) dimensions vector\n",
        "  vector = np.zeros(((p + 2) * 36,))\n",
        "\n",
        "  # Split the LBP matrix to 36 sub-regions\n",
        "  for i in range(6):\n",
        "    for j in range(6):\n",
        "      startR = 25 * i\n",
        "      startC = 25 * j\n",
        "\n",
        "      # Calculate histogram for each sub-region\n",
        "      sub = lbp[startR:startR + 25, startC:startC + 25]\n",
        "      hist = cv2.calcHist([sub], [0], None, [maxVal], [0, maxVal]).reshape(-1)\n",
        "      \n",
        "      # Place the histogram in appropriate position\n",
        "      pos = (i * 6 + j) * maxVal\n",
        "      vector[pos:pos + maxVal] = hist\n",
        "\n",
        "  # Normalize final feature vector\n",
        "  length = np.sqrt(np.dot(vector, vector))\n",
        "  vector /= length\n",
        "\n",
        "  return vector"
      ],
      "execution_count": 6,
      "outputs": []
    },
    {
      "cell_type": "code",
      "metadata": {
        "id": "1QCw6UnCpjwy",
        "colab_type": "code",
        "colab": {}
      },
      "source": [
        "X_lbp = np.zeros((X.shape[0], (p + 2) * 36))\n",
        "\n",
        "for i in range(X.shape[0]):\n",
        "  img = X[i].reshape(150, 150)\n",
        "  X_lbp[i] = LBPH(img)"
      ],
      "execution_count": 7,
      "outputs": []
    },
    {
      "cell_type": "markdown",
      "metadata": {
        "id": "rSPe96E-V9Ep",
        "colab_type": "text"
      },
      "source": [
        "***Tạo tập học và tập kiểm thử:*** tỉ lệ mẫu của hai tập này là *0.85/0.15*."
      ]
    },
    {
      "cell_type": "code",
      "metadata": {
        "id": "9p9fY1D_HLE6",
        "colab_type": "code",
        "colab": {}
      },
      "source": [
        "X_train, X_test, Y_train, Y_test = train_test_split(X_lbp, Y, test_size = 0.15)"
      ],
      "execution_count": 8,
      "outputs": []
    },
    {
      "cell_type": "markdown",
      "metadata": {
        "id": "4zPnVPxpWTRo",
        "colab_type": "text"
      },
      "source": [
        "***Tạo không gian đặc trưng:*** giảm số chiều bằng *PCA* sau đó áp dụng *LDA* để các lớp tách biệt nhau nhất có thể."
      ]
    },
    {
      "cell_type": "code",
      "metadata": {
        "id": "kN0cJVjRH0IE",
        "colab_type": "code",
        "colab": {}
      },
      "source": [
        "pca = PCA(n_components = 100)\n",
        "Z_train = pca.fit_transform(X_train)\n",
        "\n",
        "lda = LinearDiscriminantAnalysis()\n",
        "Z_train = lda.fit_transform(Z_train, Y_train.reshape(-1))"
      ],
      "execution_count": 9,
      "outputs": []
    },
    {
      "cell_type": "markdown",
      "metadata": {
        "id": "QXojnIjXXeIg",
        "colab_type": "text"
      },
      "source": [
        "***Xây dựng bộ phân lớp và kiểm thử:*** dùng bộ phân lớp *SVM* với *kernel tuyến tính* để dự đoán nhãn cho tập test."
      ]
    },
    {
      "cell_type": "code",
      "metadata": {
        "id": "o6sAyzb5ImBG",
        "colab_type": "code",
        "colab": {
          "base_uri": "https://localhost:8080/",
          "height": 34
        },
        "outputId": "b4172cef-c834-4c1c-dded-bf67c3d72ec0"
      },
      "source": [
        "svc = SVC(kernel = \"linear\")\n",
        "svc.fit(Z_train, Y_train.reshape(-1))\n",
        "\n",
        "Z_test = pca.transform(X_test)\n",
        "Z_test = lda.transform(Z_test)\n",
        "\n",
        "Y_predict = svc.predict(Z_test).reshape(-1, 1)\n",
        "\n",
        "print(\"Accuracy: {} %\".format(np.round(np.mean(Y_predict == Y_test) * 100, 2)))"
      ],
      "execution_count": 10,
      "outputs": [
        {
          "output_type": "stream",
          "text": [
            "Accuracy: 90.82 %\n"
          ],
          "name": "stdout"
        }
      ]
    }
  ]
}