{
  "nbformat": 4,
  "nbformat_minor": 0,
  "metadata": {
    "colab": {
      "name": "Preprocessing.ipynb",
      "provenance": [],
      "collapsed_sections": [],
      "mount_file_id": "13EJzy8oUWa69z560O70s7U1DwiuDT-Ck",
      "authorship_tag": "ABX9TyMQAjq+kUpmOJRnCiLqlYdh"
    },
    "kernelspec": {
      "name": "python3",
      "display_name": "Python 3"
    }
  },
  "cells": [
    {
      "cell_type": "code",
      "metadata": {
        "id": "RuttB-TwzKpl",
        "colab_type": "code",
        "colab": {}
      },
      "source": [
        "%cd /content/drive/My Drive/Notebooks/Projects/Palmprint Recognition/"
      ],
      "execution_count": null,
      "outputs": []
    },
    {
      "cell_type": "code",
      "metadata": {
        "id": "IFwuNeZMzaYb",
        "colab_type": "code",
        "colab": {}
      },
      "source": [
        "%pwd"
      ],
      "execution_count": null,
      "outputs": []
    },
    {
      "cell_type": "code",
      "metadata": {
        "id": "jKSHSZ1Vzbnd",
        "colab_type": "code",
        "colab": {}
      },
      "source": [
        "import os\n",
        "import cv2\n",
        "import ROI"
      ],
      "execution_count": null,
      "outputs": []
    },
    {
      "cell_type": "code",
      "metadata": {
        "id": "0ojQaR4I0NNT",
        "colab_type": "code",
        "colab": {}
      },
      "source": [
        "ipath_left = \"IITD Palmprint V2/Left/\"\n",
        "opath_left = \"IITD Palmprint V2/ROI/Left/\"\n",
        "\n",
        "error_left = []\n",
        "\n",
        "for filename in os.listdir(ipath_left):\n",
        "  img = cv2.imread(ipath_left + filename, cv2.IMREAD_GRAYSCALE)\n",
        "  try:\n",
        "    roi = ROI.extractROI(img)\n",
        "    cv2.imwrite(opath_left + filename, roi)\n",
        "  except:\n",
        "    print(filename)\n",
        "    error_left += [filename]"
      ],
      "execution_count": null,
      "outputs": []
    },
    {
      "cell_type": "code",
      "metadata": {
        "id": "W8Gzk30LTjMM",
        "colab_type": "code",
        "colab": {}
      },
      "source": [
        "path_right = \"IITD Palmprint V2/Right/\"\n",
        "opath_right = \"IITD Palmprint V2/ROI/Right/\"\n",
        "\n",
        "error_right = []\n",
        "\n",
        "for filename in os.listdir(ipath_right):\n",
        "  img = cv2.imread(ipath_right + filename, cv2.IMREAD_GRAYSCALE)\n",
        "  try:\n",
        "    roi = ROI.extractROI(img)\n",
        "    cv2.imwrite(opath_right + filename, roi)\n",
        "  except:\n",
        "    print(filename)\n",
        "    error_right += [filename]"
      ],
      "execution_count": null,
      "outputs": []
    }
  ]
}