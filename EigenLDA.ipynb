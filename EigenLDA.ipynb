{
  "nbformat": 4,
  "nbformat_minor": 0,
  "metadata": {
    "colab": {
      "name": "EigenLDA.ipynb",
      "provenance": [],
      "collapsed_sections": [],
      "mount_file_id": "13EJzy8oUWa69z560O70s7U1DwiuDT-Ck",
      "authorship_tag": "ABX9TyPChtKbFZ58wa/6LxCMknp6"
    },
    "kernelspec": {
      "name": "python3",
      "display_name": "Python 3"
    }
  },
  "cells": [
    {
      "cell_type": "markdown",
      "metadata": {
        "id": "z8ehBW-c9CT2",
        "colab_type": "text"
      },
      "source": [
        "Nhận dạng đường chỉ tay trong không gian ***PCA*** cùng với ***LDA***."
      ]
    },
    {
      "cell_type": "code",
      "metadata": {
        "id": "jstdiZVgZAAO",
        "colab_type": "code",
        "colab": {
          "base_uri": "https://localhost:8080/",
          "height": 34
        },
        "outputId": "e0a5969b-fbf1-4e1d-cb4d-9f44cd972d23"
      },
      "source": [
        "%cd /content/drive/My Drive/Notebooks/Projects/Palmprint Recognition/"
      ],
      "execution_count": 1,
      "outputs": [
        {
          "output_type": "stream",
          "text": [
            "/content/drive/My Drive/Notebooks/Projects/Palmprint Recognition\n"
          ],
          "name": "stdout"
        }
      ]
    },
    {
      "cell_type": "code",
      "metadata": {
        "id": "ndEgZIp9ZPac",
        "colab_type": "code",
        "colab": {}
      },
      "source": [
        "import csv\n",
        "import numpy as np\n",
        "\n",
        "from sklearn.svm import SVC\n",
        "from sklearn.decomposition import PCA\n",
        "from sklearn.model_selection import train_test_split\n",
        "from sklearn.discriminant_analysis import LinearDiscriminantAnalysis"
      ],
      "execution_count": 2,
      "outputs": []
    },
    {
      "cell_type": "markdown",
      "metadata": {
        "id": "zFKVRFAc9Wgm",
        "colab_type": "text"
      },
      "source": [
        "***Đọc dữ liệu:*** Dữ liệu gồm $N = 1301$ ảnh ROI có kích thước *150 x 150* đã được tiền xử lý và lưu dưới dạng các vector có $D = 22500$ chiều, nên ma trận dữ liệu $X$ có kích thước $(1301, 22500)$, và vector nhãn tương ứng $Y$ có kích thước $(1301, 1)$. "
      ]
    },
    {
      "cell_type": "code",
      "metadata": {
        "id": "pVk-T5kFZdH0",
        "colab_type": "code",
        "colab": {}
      },
      "source": [
        "fX = open(\"IITD Palmprint V1/X.csv\", \"r\")\n",
        "reader = csv.reader(fX)\n",
        "X = np.array(list(reader)).astype(np.uint8)\n",
        "fX.close()"
      ],
      "execution_count": 3,
      "outputs": []
    },
    {
      "cell_type": "code",
      "metadata": {
        "id": "dea0l4a3aVUp",
        "colab_type": "code",
        "colab": {}
      },
      "source": [
        "fY = open(\"IITD Palmprint V1/Y.csv\", \"r\")\n",
        "reader = csv.reader(fY)\n",
        "Y = np.array(list(reader)).astype(np.int64)\n",
        "fY.close()"
      ],
      "execution_count": 4,
      "outputs": []
    },
    {
      "cell_type": "markdown",
      "metadata": {
        "id": "T9XOo5Wc-8Fo",
        "colab_type": "text"
      },
      "source": [
        "***Tạo tập học và tập kiểm thử:*** tỉ lệ mẫu của hai tập là *0.85/0.15*."
      ]
    },
    {
      "cell_type": "code",
      "metadata": {
        "id": "hifLZErUfS8_",
        "colab_type": "code",
        "colab": {}
      },
      "source": [
        "X_train, X_test, Y_train, Y_test = train_test_split(X, Y, test_size = 0.15)"
      ],
      "execution_count": 5,
      "outputs": []
    },
    {
      "cell_type": "markdown",
      "metadata": {
        "id": "Q76znETh_SE_",
        "colab_type": "text"
      },
      "source": [
        "***Tạo không gian đặc trưng:*** giảm số chiều bằng *PCA* sau đó áp dụng *LDA* để các lớp tách biệt nhau nhất có thể."
      ]
    },
    {
      "cell_type": "code",
      "metadata": {
        "id": "I_kdFvZDqRQm",
        "colab_type": "code",
        "colab": {}
      },
      "source": [
        "pca = PCA(n_components = 100)\n",
        "Z_train = pca.fit_transform(X_train)\n",
        "\n",
        "lda = LinearDiscriminantAnalysis()\n",
        "Z_train = lda.fit_transform(Z_train, Y_train.reshape(-1))"
      ],
      "execution_count": 6,
      "outputs": []
    },
    {
      "cell_type": "markdown",
      "metadata": {
        "id": "Lu_wysEu_mGi",
        "colab_type": "text"
      },
      "source": [
        "***Xây dựng bộ phân lớp và kiểm thử:*** dùng bộ phân lớp *SVM* với *kernel tuyến tính* để dự đoán nhãn cho tập test."
      ]
    },
    {
      "cell_type": "code",
      "metadata": {
        "id": "UL1t1S4OuSdI",
        "colab_type": "code",
        "colab": {
          "base_uri": "https://localhost:8080/",
          "height": 34
        },
        "outputId": "681eb139-4950-488b-b475-c2b0b89cf85b"
      },
      "source": [
        "svc = SVC(kernel = \"linear\")\n",
        "svc.fit(Z_train, Y_train.reshape(-1))\n",
        "\n",
        "Z_test = pca.transform(X_test)\n",
        "Z_test = lda.transform(Z_test)\n",
        "\n",
        "Y_predict = svc.predict(Z_test).reshape(-1, 1)\n",
        "\n",
        "print(\"Error: \" + str(np.mean(Y_predict != Y_test)))"
      ],
      "execution_count": 7,
      "outputs": [
        {
          "output_type": "stream",
          "text": [
            "Error: 0.1377551020408163\n"
          ],
          "name": "stdout"
        }
      ]
    }
  ]
}