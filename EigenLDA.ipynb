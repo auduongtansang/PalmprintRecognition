{
  "nbformat": 4,
  "nbformat_minor": 0,
  "metadata": {
    "colab": {
      "name": "EigenLDA.ipynb",
      "provenance": [],
      "collapsed_sections": [],
      "mount_file_id": "13EJzy8oUWa69z560O70s7U1DwiuDT-Ck",
      "authorship_tag": "ABX9TyMpRygxTz3gOnopFsEIHbrF"
    },
    "kernelspec": {
      "name": "python3",
      "display_name": "Python 3"
    }
  },
  "cells": [
    {
      "cell_type": "code",
      "metadata": {
        "id": "jstdiZVgZAAO",
        "colab_type": "code",
        "colab": {
          "base_uri": "https://localhost:8080/",
          "height": 35
        },
        "outputId": "dbbe19ba-6805-4c2e-9f04-91ada8de4991"
      },
      "source": [
        "%cd /content/drive/My Drive/Notebooks/Projects/Palmprint Recognition/"
      ],
      "execution_count": 1,
      "outputs": [
        {
          "output_type": "stream",
          "text": [
            "/content/drive/My Drive/Notebooks/Projects/Palmprint Recognition\n"
          ],
          "name": "stdout"
        }
      ]
    },
    {
      "cell_type": "code",
      "metadata": {
        "id": "ndEgZIp9ZPac",
        "colab_type": "code",
        "colab": {}
      },
      "source": [
        "import cv2\n",
        "import csv\n",
        "import numpy as np\n",
        "import matplotlib.pyplot as plt\n",
        "\n",
        "from sklearn.decomposition import PCA\n",
        "from sklearn.neighbors import KNeighborsClassifier\n",
        "from sklearn.model_selection import train_test_split\n",
        "from sklearn.discriminant_analysis import LinearDiscriminantAnalysis"
      ],
      "execution_count": 2,
      "outputs": []
    },
    {
      "cell_type": "code",
      "metadata": {
        "id": "pVk-T5kFZdH0",
        "colab_type": "code",
        "colab": {}
      },
      "source": [
        "fX = open(\"IITD Palmprint V1/X.csv\", \"r\")\n",
        "reader = csv.reader(fX)\n",
        "X = np.array(list(reader)).astype(np.uint8)\n",
        "fX.close()"
      ],
      "execution_count": 3,
      "outputs": []
    },
    {
      "cell_type": "code",
      "metadata": {
        "id": "dea0l4a3aVUp",
        "colab_type": "code",
        "colab": {}
      },
      "source": [
        "fY = open(\"IITD Palmprint V1/Y.csv\", \"r\")\n",
        "reader = csv.reader(fY)\n",
        "Y = np.array(list(reader)).astype(np.int64)\n",
        "fY.close()"
      ],
      "execution_count": 4,
      "outputs": []
    },
    {
      "cell_type": "code",
      "metadata": {
        "id": "hifLZErUfS8_",
        "colab_type": "code",
        "colab": {}
      },
      "source": [
        "X_train, X_test, Y_train, Y_test = train_test_split(X, Y, test_size = 0.15)"
      ],
      "execution_count": 5,
      "outputs": []
    },
    {
      "cell_type": "code",
      "metadata": {
        "id": "I_kdFvZDqRQm",
        "colab_type": "code",
        "colab": {}
      },
      "source": [
        "pca = PCA(n_components = 100)\n",
        "Z_train = pca.fit_transform(X_train)\n",
        "\n",
        "lda = LinearDiscriminantAnalysis()\n",
        "Z_train = lda.fit_transform(Z_train, Y_train.reshape(-1))"
      ],
      "execution_count": 6,
      "outputs": []
    },
    {
      "cell_type": "code",
      "metadata": {
        "id": "UL1t1S4OuSdI",
        "colab_type": "code",
        "colab": {
          "base_uri": "https://localhost:8080/",
          "height": 35
        },
        "outputId": "11955a3f-a24f-4288-8838-04bda42c0846"
      },
      "source": [
        "Z_test = pca.transform(X_test)\n",
        "\n",
        "Y_predict = lda.predict(Z_test).reshape(-1, 1)\n",
        "\n",
        "print(\"Error: \" + str(np.mean(Y_predict != Y_test)))"
      ],
      "execution_count": 7,
      "outputs": [
        {
          "output_type": "stream",
          "text": [
            "Error: 0.12755102040816327\n"
          ],
          "name": "stdout"
        }
      ]
    }
  ]
}