{
  "nbformat": 4,
  "nbformat_minor": 0,
  "metadata": {
    "colab": {
      "name": "Fusion.ipynb",
      "provenance": [],
      "collapsed_sections": [],
      "mount_file_id": "1Vy1kzZBJUpPK9s7HEqekjEZVpSonEMZ3",
      "authorship_tag": "ABX9TyO3m1qU6GP440OkcVruh48G"
    },
    "kernelspec": {
      "name": "python3",
      "display_name": "Python 3"
    }
  },
  "cells": [
    {
      "cell_type": "markdown",
      "metadata": {
        "id": "cCO8GE3Osaiz",
        "colab_type": "text"
      },
      "source": [
        "Nhận dạng đường chỉ tay sử dụng ***mã hóa Fusion*** và bộ phân lớp ***KNN***.\n",
        "\n",
        "*   *Mã hóa Fusion*: dùng 4 bộ lọc *Zero DC Gabor* tương ứng với bốn hướng 0, $\\frac{\\pi}{4}$, $\\frac{\\pi}{2}$ và $\\frac{3\\pi}{4}$, sau đó tìm đáp ứng xung lớn nhất trong bốn hướng trên để mã hóa."
      ]
    },
    {
      "cell_type": "code",
      "metadata": {
        "id": "SEytvnuBsz8V",
        "colab_type": "code",
        "colab": {
          "base_uri": "https://localhost:8080/",
          "height": 34
        },
        "outputId": "f031fb66-e6a6-4242-c6b0-be9ebc04c8cc"
      },
      "source": [
        "%cd /content/drive/My Drive/Notebooks/Projects/Palmprint Recognition/"
      ],
      "execution_count": 1,
      "outputs": [
        {
          "output_type": "stream",
          "text": [
            "/content/drive/My Drive/Notebooks/Projects/Palmprint Recognition\n"
          ],
          "name": "stdout"
        }
      ]
    },
    {
      "cell_type": "code",
      "metadata": {
        "id": "imtMPf1mtG0N",
        "colab_type": "code",
        "colab": {}
      },
      "source": [
        "import cv2\n",
        "import csv\n",
        "import numpy as np\n",
        "import matplotlib.pyplot as plt\n",
        "\n",
        "from sklearn.model_selection import train_test_split"
      ],
      "execution_count": 2,
      "outputs": []
    },
    {
      "cell_type": "code",
      "metadata": {
        "id": "hSGAbM3yIPi3",
        "colab_type": "code",
        "colab": {}
      },
      "source": [
        "\"\"\"\n",
        "  Parameters:\n",
        "    - ksize: Gabor kernel size\n",
        "    - theta: orientation of four Gabor kernel\n",
        "    - omega, sigma: Gabor hyper-parameter\n",
        "\"\"\"\n",
        "\n",
        "ksize = 35\n",
        "theta = np.array([0, np.pi / 4, np.pi / 2, 3 * np.pi / 4])\n",
        "omega = 0.0916\n",
        "sigma = 5.6179"
      ],
      "execution_count": 3,
      "outputs": []
    },
    {
      "cell_type": "markdown",
      "metadata": {
        "id": "jC9Mqb0ite0z",
        "colab_type": "text"
      },
      "source": [
        "***Đọc dữ liệu:*** Dữ liệu gồm $N = 1301$ ảnh ROI có kích thước *150 x 150* đã được tiền xử lý và lưu dưới dạng các vector có $D = 22500$ chiều, nên ma trận dữ liệu $X$ có kích thước $(1301, 22500)$, và vector nhãn tương ứng $Y$ có kích thước $(1301, 1)$."
      ]
    },
    {
      "cell_type": "code",
      "metadata": {
        "id": "5AjWFv2jtXPz",
        "colab_type": "code",
        "colab": {}
      },
      "source": [
        "fX = open(\"IITD Palmprint V1/X.csv\", \"r\")\n",
        "reader = csv.reader(fX)\n",
        "X = np.array(list(reader)).astype(np.float64)\n",
        "fX.close()"
      ],
      "execution_count": 4,
      "outputs": []
    },
    {
      "cell_type": "code",
      "metadata": {
        "id": "M4iYlAVZtd8j",
        "colab_type": "code",
        "colab": {}
      },
      "source": [
        "fY = open(\"IITD Palmprint V1/Y.csv\", \"r\")\n",
        "reader = csv.reader(fY)\n",
        "Y = np.array(list(reader)).astype(np.int64)\n",
        "fY.close()"
      ],
      "execution_count": 5,
      "outputs": []
    },
    {
      "cell_type": "markdown",
      "metadata": {
        "id": "GvNH68jTuQmg",
        "colab_type": "text"
      },
      "source": [
        "***Tạo kernel Gabor***:\n",
        "\n",
        "*   Hàm Gabor $k(\\theta) = \\frac{1}{2\\pi{\\sigma}^2}e^{\\frac{-x'^2 - y'^2}{2{\\sigma}^2}}(e^{i2{\\pi}x'} - e^{-2(\\pi\\omega\\sigma)^2})$\n",
        "*   $x' = xcos(\\theta) + ysin(\\theta)$\n",
        "*   $y' = -xsin(\\theta) + ycos(\\theta)$"
      ]
    },
    {
      "cell_type": "code",
      "metadata": {
        "id": "2u1G2-XftfMy",
        "colab_type": "code",
        "colab": {}
      },
      "source": [
        "def DCGaborKernel(size, theta, omega, sigma):\n",
        "  if (size & 1) == 0:\n",
        "    size += 1\n",
        "\n",
        "  half = size // 2\n",
        "\n",
        "  inv2sigma2 = 1 / (2 * sigma * sigma)\n",
        "  invpi2sigma2 = inv2sigma2 / np.pi\n",
        "\n",
        "  pi2omega = 2 * np.pi * omega\n",
        "  cos = np.cos(theta)\n",
        "  sin = np.sin(theta)\n",
        "\n",
        "  const = np.exp(-2 * np.pi * omega * sigma * np.pi * omega * sigma)\n",
        "\n",
        "  kernel = np.zeros((size, size)).astype(np.complex128)\n",
        "\n",
        "  for i in range(size):\n",
        "    for j in range(size):\n",
        "      ii = i - half\n",
        "      jj = j - half\n",
        "\n",
        "      x = jj * cos + ii * sin\n",
        "      y = -jj * sin + ii * cos\n",
        "\n",
        "      t = pi2omega * x\n",
        "      \n",
        "      c = complex(np.cos(t), np.sin(t))\n",
        "\n",
        "      kernel[i, j] = invpi2sigma2 * np.exp(-(x**2 + y**2) * inv2sigma2) * (c - const)\n",
        "  \n",
        "  return kernel"
      ],
      "execution_count": 6,
      "outputs": []
    },
    {
      "cell_type": "code",
      "metadata": {
        "id": "t5i8LIRsJ0no",
        "colab_type": "code",
        "colab": {}
      },
      "source": [
        "k = np.zeros((4, ksize, ksize)).astype(np.complex128)\n",
        "\n",
        "k[0] = DCGaborKernel(ksize, theta[0], omega, sigma)\n",
        "k[1] = DCGaborKernel(ksize, theta[1], omega, sigma)\n",
        "k[2] = DCGaborKernel(ksize, theta[2], omega, sigma)\n",
        "k[3] = DCGaborKernel(ksize, theta[3], omega, sigma)"
      ],
      "execution_count": 7,
      "outputs": []
    },
    {
      "cell_type": "markdown",
      "metadata": {
        "id": "hgg0L2WswZsy",
        "colab_type": "text"
      },
      "source": [
        "***Mã hóa Fusion***:\n",
        "\n",
        "*Với mỗi $t$ (tương ứng với bốn hướng của kernel Gabor), tính:*\n",
        "\n",
        "*   $Real[t] = I(x, y) * k[t].Real$\n",
        "*   $Imag[t] = I(x, y) * k[t].Imag$\n",
        "*   $Magn[t] = Real[t] * Imag[t]$\n",
        "\n",
        "*Với mỗi điểm ảnh [x, y], tính:*\n",
        "\n",
        "*   $m = argmax \\text{ } Magn[t, x, y]$\n",
        "*   $code[0, x, y] = \\text{(I(x, y) is hand region)}$\n",
        "*   $code[1, x, y] = (Real[m, x, y] \\geqslant 0)$\n",
        "*   $code[2, x, y] = (Imag[m, x, y] \\geqslant 0)$\n",
        "\n",
        "Đặc trưng của ảnh được biểu diễn bởi ma trận nhị phân $code[m, x, y]$ với $m = 0, 1, 2$ (tương ứng với phần mặt nạ, thực, ảo)."
      ]
    },
    {
      "cell_type": "code",
      "metadata": {
        "id": "nmxMGD9P7JUM",
        "colab_type": "code",
        "colab": {}
      },
      "source": [
        "def Fusion(img):\n",
        "  real = np.zeros((4, 50, 50)).astype(np.float64)\n",
        "  imag = np.zeros((4, 50, 50)).astype(np.float64)\n",
        "  magn = np.zeros((4, 50, 50)).astype(np.float64)\n",
        "\n",
        "  real[0] = cv2.filter2D(img, -1, k[0].real)\n",
        "  imag[0] = cv2.filter2D(img, -1, k[0].imag)\n",
        "  magn[0] = real[0] * imag[0]\n",
        "\n",
        "  real[1] = cv2.filter2D(img, -1, k[1].real)\n",
        "  imag[1] = cv2.filter2D(img, -1, k[1].imag)\n",
        "  magn[1] = real[1] * imag[1]\n",
        "\n",
        "  real[2] = cv2.filter2D(img, -1, k[2].real)\n",
        "  imag[2] = cv2.filter2D(img, -1, k[2].imag)\n",
        "  magn[2] = real[2] * imag[2]\n",
        "\n",
        "  real[3] = cv2.filter2D(img, -1, k[3].real)\n",
        "  imag[3] = cv2.filter2D(img, -1, k[3].imag)\n",
        "  magn[3] = real[3] * imag[3]\n",
        "\n",
        "  m = np.argmax(magn, axis = 0)\n",
        "\n",
        "  code = np.zeros((3, 50, 50)).astype(np.uint8)\n",
        "  code[0] = img > 5\n",
        "\n",
        "  for i in range(50):\n",
        "    for j in range(50):\n",
        "      amax = m[i, j]\n",
        "      code[1, i, j] = real[amax, i, j] >= 0\n",
        "      code[2, i, j] = imag[amax, i, j] >= 0\n",
        "  \n",
        "  return code"
      ],
      "execution_count": 8,
      "outputs": []
    },
    {
      "cell_type": "code",
      "metadata": {
        "id": "IEOACtxwTHmH",
        "colab_type": "code",
        "colab": {}
      },
      "source": [
        "X_fusion = np.zeros((X.shape[0], 3, 50, 50)).astype(np.uint8)\n",
        "\n",
        "for i in range(X.shape[0]):\n",
        "  img = X[i].reshape(150, 150)\n",
        "  img = cv2.resize(img, (50, 50))\n",
        "  X_fusion[i] = Fusion(img)"
      ],
      "execution_count": 9,
      "outputs": []
    },
    {
      "cell_type": "code",
      "metadata": {
        "id": "-4pJYwWV7bxV",
        "colab_type": "code",
        "colab": {
          "base_uri": "https://localhost:8080/",
          "height": 203
        },
        "outputId": "52555ec8-1501-41e3-92e0-cccfb8f900b6"
      },
      "source": [
        "fig, arr = plt.subplots(1, 2)\n",
        "\n",
        "arr[0].imshow(X_fusion[0][1], cmap = \"gray\", vmin = 0, vmax = 1)\n",
        "arr[1].imshow(X_fusion[0][2], cmap = \"gray\", vmin = 0, vmax = 1)\n",
        "\n",
        "plt.show()"
      ],
      "execution_count": 10,
      "outputs": [
        {
          "output_type": "display_data",
          "data": {
            "image/png": "[encoded data removed]",
            "text/plain": [
              "<Figure size 432x288 with 2 Axes>"
            ]
          },
          "metadata": {
            "tags": [],
            "needs_background": "light"
          }
        }
      ]
    },
    {
      "cell_type": "markdown",
      "metadata": {
        "id": "kFDZKT0H1Cvk",
        "colab_type": "text"
      },
      "source": [
        "***Đối sánh***: Dùng khoảng cách Hamming để đối sánh các ma trận nhị phân.\n",
        "\n",
        "$distance(A, B) = \\frac{\\sum{((A[0, x, y] \\text{ & } B[0, x, y]) \\text{ & } ((A[1, x, y] \\text{ ^ } B[1, x, y]) \\text{ | } (A[2, x, y] \\text{ ^ } B[2, x, y])))}}{2\\sum{(A[0, x, y] \\text{ & } B[0, x, y])}}$"
      ]
    },
    {
      "cell_type": "code",
      "metadata": {
        "id": "Om89UxUmTufn",
        "colab_type": "code",
        "colab": {}
      },
      "source": [
        "def Distance(codeA, codeB):\n",
        "  mask = codeA[0] & codeB[0]\n",
        "\n",
        "  num = np.sum(mask & ((codeA[1] ^ codeB[1]) | (codeA[2] ^ codeB[2])))\n",
        "  den = 2 * np.sum(mask)\n",
        "\n",
        "  return num / den"
      ],
      "execution_count": 11,
      "outputs": []
    },
    {
      "cell_type": "markdown",
      "metadata": {
        "id": "rWuTbWyc5Vvm",
        "colab_type": "text"
      },
      "source": [
        "***Tạo tập học và tập kiểm thử:*** tỉ lệ mẫu của hai tập này là *0.85/0.15*."
      ]
    },
    {
      "cell_type": "code",
      "metadata": {
        "id": "FzC0k5nGfZU5",
        "colab_type": "code",
        "colab": {}
      },
      "source": [
        "X_train, X_test, Y_train, Y_test = train_test_split(X_fusion, Y, test_size = 0.15)"
      ],
      "execution_count": 12,
      "outputs": []
    },
    {
      "cell_type": "code",
      "metadata": {
        "id": "GO__7geQhGwh",
        "colab_type": "code",
        "colab": {}
      },
      "source": [
        "class FusionKNN:\n",
        "  def __init__(self, n_components = 5, metric = None):\n",
        "    self.n_components = n_components\n",
        "    self.metric = metric\n",
        "\n",
        "    self.X_train = None\n",
        "    self.Y_train = None\n",
        "\n",
        "  def fit(self, X_train, Y_train):\n",
        "    self.X_train = X_train\n",
        "    self.Y_train = Y_train\n",
        "\n",
        "  def predict(self, X):\n",
        "    Y_predict = np.zeros((X.shape[0],))\n",
        "\n",
        "    for i in range(X.shape[0]):\n",
        "      d = np.zeros((self.X_train.shape[0],))\n",
        "\n",
        "      for j in range(self.X_train.shape[0]):\n",
        "        d[j] = self.metric(X[i], self.X_train[j])\n",
        "\n",
        "      if self.n_components == 1:\n",
        "        Y_predict[i] = Y_train[np.argmin(d)]\n",
        "        continue\n",
        "\n",
        "      order = np.argsort(d)[:self.n_components]\n",
        "      Y_neighbor = self.Y_train[order]\n",
        "\n",
        "      count = np.bincount(Y_neighbor)\n",
        "      Y_predict[i] = np.argmax(count)\n",
        "    \n",
        "    return Y_predict"
      ],
      "execution_count": 13,
      "outputs": []
    },
    {
      "cell_type": "code",
      "metadata": {
        "id": "WkAdT47QnZSq",
        "colab_type": "code",
        "colab": {
          "base_uri": "https://localhost:8080/",
          "height": 34
        },
        "outputId": "1dbb99b8-5b0b-4ef1-fa85-c5c6cf03b4d1"
      },
      "source": [
        "knn = FusionKNN(n_components = 1, metric = Distance)\n",
        "knn.fit(X_train, Y_train.reshape(-1))\n",
        "\n",
        "Y_predict = knn.predict(X_test).reshape(-1, 1)\n",
        "\n",
        "print(\"Accuracy: {} %\".format(np.round(np.mean(Y_predict == Y_test) * 100, 2)))"
      ],
      "execution_count": 14,
      "outputs": [
        {
          "output_type": "stream",
          "text": [
            "Accuracy: 92.86 %\n"
          ],
          "name": "stdout"
        }
      ]
    }
  ]
}